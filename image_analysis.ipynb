{
 "cells": [
  {
   "cell_type": "code",
   "execution_count": 1,
   "metadata": {},
   "outputs": [],
   "source": [
    "import numpy as np\n",
    "import cv2\n",
    "\n",
    "\n",
    "import mediapipe as mp\n",
    "\n",
    "import PoseTrackingModule as ptm\n",
    "import os\n",
    "\n",
    "from yoloV3 import YOLOdetector\n",
    "\n",
    "from DepthDetector import DepthDetector"
   ]
  },
  {
   "cell_type": "code",
   "execution_count": 2,
   "metadata": {},
   "outputs": [],
   "source": [
    "main_folder_name=\"Recordings/recordings4/\"\n",
    "\n",
    "Spark_filename= main_folder_name+\"Spark_image/\"\n",
    "Spark_numpys=main_folder_name+\"Spark_npys/\"\n",
    "Spark_mins=main_folder_name+\"Spark_mins/\"\n",
    "Spark_maxs=main_folder_name+\"Spark_maxs/\"\n",
    "\n",
    "Color_filename= main_folder_name+\"Color_RealSense/\"\n",
    "Depth_filename= main_folder_name+\"Depth_RealSense/\"\n",
    "Depthnp_filename = main_folder_name+\"Depthnp_RealSense/\"\n",
    "\n",
    "file_ext = \".jpg\"\n"
   ]
  },
  {
   "cell_type": "code",
   "execution_count": 3,
   "metadata": {},
   "outputs": [],
   "source": [
    "Color_RealSense= []\n",
    "Depth_RealSense= []\n",
    "Depthnp_RealSense= []\n",
    "Spark_image= []\n",
    "Spark_maxS= []\n",
    "Spark_minS= []\n",
    "Spark_npys= []\n",
    "\n",
    "\n",
    "for file in os.listdir(Color_filename):\n",
    "    Color_RealSense.append(cv2.imread(Color_filename+file))\n",
    "\n",
    "for file in os.listdir(Depth_filename):\n",
    "    Depth_RealSense.append(cv2.imread(Depth_filename+file))\n",
    "\n",
    "for file in os.listdir(Depthnp_filename):\n",
    "    Depthnp_RealSense.append(np.load(Depthnp_filename+file))\n",
    "\n",
    "for file in os.listdir(Spark_filename):\n",
    "    Spark_image.append(cv2.imread(Spark_filename+file))\n",
    "\n",
    "for file in os.listdir(Spark_maxs):\n",
    "    Spark_maxS.append(np.load(Spark_maxs+file))\n",
    "\n",
    "for file in os.listdir(Spark_mins):\n",
    "    Spark_minS.append(np.load(Spark_mins+file))\n",
    "\n",
    "for file in os.listdir(Spark_numpys):\n",
    "    Spark_npys.append(np.load(Spark_numpys+file))\n",
    "\n",
    "\n",
    "depth_scale=np.load(main_folder_name+'depth_scale.npy')"
   ]
  },
  {
   "cell_type": "code",
   "execution_count": 4,
   "metadata": {},
   "outputs": [],
   "source": [
    "detector = ptm.poseDetector()\n",
    "depthDetector=DepthDetector(depth_scale=depth_scale)\n",
    "yolo= YOLOdetector()"
   ]
  },
  {
   "cell_type": "code",
   "execution_count": 5,
   "metadata": {},
   "outputs": [
    {
     "name": "stdout",
     "output_type": "stream",
     "text": [
      "ThermalConfidence 5\n",
      "DepthConfidence 10\n",
      "ThermalConfidence 5\n",
      "DepthConfidence 10\n",
      "ThermalConfidence 5\n",
      "DepthConfidence 10\n",
      "ThermalConfidence 5\n",
      "DepthConfidence 13\n",
      "ThermalConfidence 5\n",
      "DepthConfidence 13\n",
      "ThermalConfidence 5\n",
      "DepthConfidence 13\n"
     ]
    }
   ],
   "source": [
    "for i in range(len(Color_RealSense)):\n",
    "    grideye_image = Spark_image[i]\n",
    "    color_image  = Color_RealSense[i]\n",
    "    depth_colormap = Depth_RealSense[i]\n",
    "    grideye_values=Spark_npys[i]\n",
    "    minTemp=Spark_minS[i]\n",
    "    maxTemp=Spark_maxS[i]\n",
    "    depth_map=Depthnp_RealSense[i]\n",
    "    yoloDetects = yolo.predict(color_image)\n",
    "    for yoloDetect in yoloDetects:\n",
    "        detectPoseRGB, detectPoseDepth, landmarks = detector.findPoseAndDrawLandmarks(\n",
    "        color_image[yoloDetect[1]:yoloDetect[3],yoloDetect[0]:yoloDetect[2]], depth_map[yoloDetect[1]:yoloDetect[3],yoloDetect[0]:yoloDetect[2]])\n",
    "    \n",
    "    if(landmarks):\n",
    "        depth_map=depthDetector.detect(landmarks,depth_map,grideye_values,minTemp,maxTemp)\n",
    "    \n",
    "    \n",
    "    cv2.imshow(\"Color RealSense image\", color_image)\n",
    "    \n",
    "    #cv2.imshow(\"Depth RealSense image\", detectPoseDepth)\n",
    "    #cv2.imshow(\"Dete RealSense image\", detectPoseRGB)\n",
    "    k = cv2.waitKey(0)\n",
    "    if k == 27:\n",
    "        cv2.destroyAllWindows()\n",
    "        break\n"
   ]
  }
 ],
 "metadata": {
  "kernelspec": {
   "display_name": "Python 3",
   "language": "python",
   "name": "python3"
  },
  "language_info": {
   "codemirror_mode": {
    "name": "ipython",
    "version": 3
   },
   "file_extension": ".py",
   "mimetype": "text/x-python",
   "name": "python",
   "nbconvert_exporter": "python",
   "pygments_lexer": "ipython3",
   "version": "3.10.9"
  },
  "orig_nbformat": 4,
  "vscode": {
   "interpreter": {
    "hash": "005db13d4d21fd76fe15f2a0136d58b4adeae6da8ba7bcb24a0e6f1aa90176c1"
   }
  }
 },
 "nbformat": 4,
 "nbformat_minor": 2
}
